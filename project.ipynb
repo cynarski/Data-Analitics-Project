{
 "cells": [
  {
   "metadata": {},
   "cell_type": "markdown",
   "source": "# Importing libraries",
   "id": "7d0b7f24472c527a"
  },
  {
   "cell_type": "code",
   "id": "initial_id",
   "metadata": {
    "ExecuteTime": {
     "end_time": "2025-06-04T09:10:27.404798Z",
     "start_time": "2025-06-04T09:10:27.396Z"
    }
   },
   "source": [
    "from cmdstanpy import CmdStanModel\n",
    "import pandas as pd\n",
    "import arviz as az \n",
    "import numpy as np\n",
    "import matplotlib.pyplot as plt\n",
    "import scipy.stats as stats\n",
    "import seaborn as sns\n",
    "from sklearn.preprocessing import StandardScaler\n",
    "from graphviz import Digraph\n",
    "\n",
    "SEED = 19 + 14 ## sum of length of our full names or just use 42"
   ],
   "outputs": [],
   "execution_count": 2
  },
  {
   "metadata": {},
   "cell_type": "markdown",
   "source": "## Defining helper functions",
   "id": "4c3e685398631677"
  },
  {
   "metadata": {},
   "cell_type": "code",
   "outputs": [],
   "execution_count": null,
   "source": [
    "def create_poisson_dag():\n",
    "    dot = Digraph(comment='Poisson Regression Model')\n",
    "\n",
    "    dot.node('X', 'X (Predictors)', shape='box')\n",
    "    dot.node('nkill', 'nkill (Observed Counts)', shape='box')\n",
    "    dot.node('alpha', 'alpha')\n",
    "    dot.node('beta', 'beta')\n",
    "    dot.node('eta', 'eta = alpha + X * beta')\n",
    "    dot.node('nkill_dist', 'Poisson_log(nkill | eta)')\n",
    "    dot.node('nkill_pred', 'nkill_pred')\n",
    "\n",
    "    dot.edge('X', 'eta')\n",
    "    dot.edge('beta', 'eta')\n",
    "    dot.edge('alpha', 'eta')\n",
    "    dot.edge('eta', 'nkill_dist')\n",
    "    dot.edge('nkill_dist', 'nkill')\n",
    "    dot.edge('eta', 'nkill_pred')\n",
    "\n",
    "    return dot\n",
    "\n",
    "\n",
    "def create_negative_binomial_dag():\n",
    "    dot = Digraph(comment='Negative Binomial Regression Model')\n",
    "\n",
    "    dot.node('X', 'X (Predictors)', shape='box')\n",
    "    dot.node('nkill', 'nkill (Observed Counts)', shape='box')\n",
    "    dot.node('alpha', 'alpha')\n",
    "    dot.node('beta', 'beta')\n",
    "    dot.node('phi', 'phi')\n",
    "    dot.node('eta', 'eta = alpha + X * beta')\n",
    "    dot.node('nkill_dist', 'NegBinomial_2_log(nkill | eta, phi)')\n",
    "    dot.node('nkill_pred', 'nkill_pred')\n",
    "\n",
    "    dot.edge('X', 'eta')\n",
    "    dot.edge('beta', 'eta')\n",
    "    dot.edge('alpha', 'eta')\n",
    "    dot.edge('phi', 'nkill_dist')\n",
    "    dot.edge('eta', 'nkill_dist')\n",
    "    dot.edge('nkill_dist', 'nkill')\n",
    "    dot.edge('phi', 'nkill_pred')\n",
    "    dot.edge('eta', 'nkill_pred')\n",
    "\n",
    "    return dot"
   ],
   "id": "81a15fda7c218a3f"
  },
  {
   "metadata": {},
   "cell_type": "markdown",
   "source": "## Load & preparing data",
   "id": "84e28e906b0dce50"
  },
  {
   "cell_type": "code",
   "execution_count": 159,
   "id": "50942680",
   "metadata": {},
   "outputs": [
    {
     "name": "stderr",
     "output_type": "stream",
     "text": [
      "/tmp/ipykernel_599/2849558448.py:1: DtypeWarning: Columns (4,6,31,33,61,62,63,76,79,90,92,94,96,114,115,121) have mixed types. Specify dtype option on import or set low_memory=False.\n",
      "  df = pd.read_csv('globalterrorismdb_0718dist.csv', encoding='latin-1')\n"
     ]
    },
    {
     "data": {
      "text/html": [
       "<div>\n",
       "<style scoped>\n",
       "    .dataframe tbody tr th:only-of-type {\n",
       "        vertical-align: middle;\n",
       "    }\n",
       "\n",
       "    .dataframe tbody tr th {\n",
       "        vertical-align: top;\n",
       "    }\n",
       "\n",
       "    .dataframe thead th {\n",
       "        text-align: right;\n",
       "    }\n",
       "</style>\n",
       "<table border=\"1\" class=\"dataframe\">\n",
       "  <thead>\n",
       "    <tr style=\"text-align: right;\">\n",
       "      <th></th>\n",
       "      <th>eventid</th>\n",
       "      <th>iyear</th>\n",
       "      <th>imonth</th>\n",
       "      <th>iday</th>\n",
       "      <th>approxdate</th>\n",
       "      <th>extended</th>\n",
       "      <th>resolution</th>\n",
       "      <th>country</th>\n",
       "      <th>country_txt</th>\n",
       "      <th>region</th>\n",
       "      <th>...</th>\n",
       "      <th>addnotes</th>\n",
       "      <th>scite1</th>\n",
       "      <th>scite2</th>\n",
       "      <th>scite3</th>\n",
       "      <th>dbsource</th>\n",
       "      <th>INT_LOG</th>\n",
       "      <th>INT_IDEO</th>\n",
       "      <th>INT_MISC</th>\n",
       "      <th>INT_ANY</th>\n",
       "      <th>related</th>\n",
       "    </tr>\n",
       "  </thead>\n",
       "  <tbody>\n",
       "    <tr>\n",
       "      <th>0</th>\n",
       "      <td>197000000001</td>\n",
       "      <td>1970</td>\n",
       "      <td>7</td>\n",
       "      <td>2</td>\n",
       "      <td>NaN</td>\n",
       "      <td>0</td>\n",
       "      <td>NaN</td>\n",
       "      <td>58</td>\n",
       "      <td>Dominican Republic</td>\n",
       "      <td>2</td>\n",
       "      <td>...</td>\n",
       "      <td>NaN</td>\n",
       "      <td>NaN</td>\n",
       "      <td>NaN</td>\n",
       "      <td>NaN</td>\n",
       "      <td>PGIS</td>\n",
       "      <td>0</td>\n",
       "      <td>0</td>\n",
       "      <td>0</td>\n",
       "      <td>0</td>\n",
       "      <td>NaN</td>\n",
       "    </tr>\n",
       "    <tr>\n",
       "      <th>1</th>\n",
       "      <td>197000000002</td>\n",
       "      <td>1970</td>\n",
       "      <td>0</td>\n",
       "      <td>0</td>\n",
       "      <td>NaN</td>\n",
       "      <td>0</td>\n",
       "      <td>NaN</td>\n",
       "      <td>130</td>\n",
       "      <td>Mexico</td>\n",
       "      <td>1</td>\n",
       "      <td>...</td>\n",
       "      <td>NaN</td>\n",
       "      <td>NaN</td>\n",
       "      <td>NaN</td>\n",
       "      <td>NaN</td>\n",
       "      <td>PGIS</td>\n",
       "      <td>0</td>\n",
       "      <td>1</td>\n",
       "      <td>1</td>\n",
       "      <td>1</td>\n",
       "      <td>NaN</td>\n",
       "    </tr>\n",
       "    <tr>\n",
       "      <th>2</th>\n",
       "      <td>197001000001</td>\n",
       "      <td>1970</td>\n",
       "      <td>1</td>\n",
       "      <td>0</td>\n",
       "      <td>NaN</td>\n",
       "      <td>0</td>\n",
       "      <td>NaN</td>\n",
       "      <td>160</td>\n",
       "      <td>Philippines</td>\n",
       "      <td>5</td>\n",
       "      <td>...</td>\n",
       "      <td>NaN</td>\n",
       "      <td>NaN</td>\n",
       "      <td>NaN</td>\n",
       "      <td>NaN</td>\n",
       "      <td>PGIS</td>\n",
       "      <td>-9</td>\n",
       "      <td>-9</td>\n",
       "      <td>1</td>\n",
       "      <td>1</td>\n",
       "      <td>NaN</td>\n",
       "    </tr>\n",
       "    <tr>\n",
       "      <th>3</th>\n",
       "      <td>197001000002</td>\n",
       "      <td>1970</td>\n",
       "      <td>1</td>\n",
       "      <td>0</td>\n",
       "      <td>NaN</td>\n",
       "      <td>0</td>\n",
       "      <td>NaN</td>\n",
       "      <td>78</td>\n",
       "      <td>Greece</td>\n",
       "      <td>8</td>\n",
       "      <td>...</td>\n",
       "      <td>NaN</td>\n",
       "      <td>NaN</td>\n",
       "      <td>NaN</td>\n",
       "      <td>NaN</td>\n",
       "      <td>PGIS</td>\n",
       "      <td>-9</td>\n",
       "      <td>-9</td>\n",
       "      <td>1</td>\n",
       "      <td>1</td>\n",
       "      <td>NaN</td>\n",
       "    </tr>\n",
       "    <tr>\n",
       "      <th>4</th>\n",
       "      <td>197001000003</td>\n",
       "      <td>1970</td>\n",
       "      <td>1</td>\n",
       "      <td>0</td>\n",
       "      <td>NaN</td>\n",
       "      <td>0</td>\n",
       "      <td>NaN</td>\n",
       "      <td>101</td>\n",
       "      <td>Japan</td>\n",
       "      <td>4</td>\n",
       "      <td>...</td>\n",
       "      <td>NaN</td>\n",
       "      <td>NaN</td>\n",
       "      <td>NaN</td>\n",
       "      <td>NaN</td>\n",
       "      <td>PGIS</td>\n",
       "      <td>-9</td>\n",
       "      <td>-9</td>\n",
       "      <td>1</td>\n",
       "      <td>1</td>\n",
       "      <td>NaN</td>\n",
       "    </tr>\n",
       "  </tbody>\n",
       "</table>\n",
       "<p>5 rows × 135 columns</p>\n",
       "</div>"
      ],
      "text/plain": [
       "        eventid  iyear  imonth  iday approxdate  extended resolution  country  \\\n",
       "0  197000000001   1970       7     2        NaN         0        NaN       58   \n",
       "1  197000000002   1970       0     0        NaN         0        NaN      130   \n",
       "2  197001000001   1970       1     0        NaN         0        NaN      160   \n",
       "3  197001000002   1970       1     0        NaN         0        NaN       78   \n",
       "4  197001000003   1970       1     0        NaN         0        NaN      101   \n",
       "\n",
       "          country_txt  region  ... addnotes scite1 scite2  scite3  dbsource  \\\n",
       "0  Dominican Republic       2  ...      NaN    NaN    NaN     NaN      PGIS   \n",
       "1              Mexico       1  ...      NaN    NaN    NaN     NaN      PGIS   \n",
       "2         Philippines       5  ...      NaN    NaN    NaN     NaN      PGIS   \n",
       "3              Greece       8  ...      NaN    NaN    NaN     NaN      PGIS   \n",
       "4               Japan       4  ...      NaN    NaN    NaN     NaN      PGIS   \n",
       "\n",
       "   INT_LOG  INT_IDEO INT_MISC INT_ANY  related  \n",
       "0        0         0        0       0      NaN  \n",
       "1        0         1        1       1      NaN  \n",
       "2       -9        -9        1       1      NaN  \n",
       "3       -9        -9        1       1      NaN  \n",
       "4       -9        -9        1       1      NaN  \n",
       "\n",
       "[5 rows x 135 columns]"
      ]
     },
     "execution_count": 159,
     "metadata": {},
     "output_type": "execute_result"
    }
   ],
   "source": [
    "df = pd.read_csv('globalterrorismdb_0718dist.csv', encoding='latin-1')\n",
    "df.head()"
   ]
  },
  {
   "cell_type": "code",
   "execution_count": null,
   "id": "5a579c8b",
   "metadata": {},
   "outputs": [],
   "source": [
    "selected_columns = ['nkill', 'attacktype1_txt', 'weaptype1_txt', 'targtype1_txt', 'country_txt', 'nperps']\n",
    "df = df[selected_columns].dropna()\n",
    "df = df.sample(n=1000, random_state=SEED)\n",
    "df.to_csv('data.csv')"
   ]
  },
  {
   "metadata": {},
   "cell_type": "markdown",
   "source": "## Counting mean and standard deviation",
   "id": "e8674022d0820c9d"
  },
  {
   "cell_type": "code",
   "execution_count": null,
   "id": "545a47ab",
   "metadata": {},
   "outputs": [
    {
     "name": "stdout",
     "output_type": "stream",
     "text": [
      "0.6460148321311442 0.8190179737627902\n"
     ]
    }
   ],
   "source": [
    "alpha_mean = np.log1p(df['nkill']).mean()\n",
    "alpha_std = np.log1p(df['nkill']).std()\n",
    "\n",
    "print(alpha_mean, alpha_std)"
   ]
  },
  {
   "cell_type": "code",
   "execution_count": 162,
   "id": "f91d6ca7",
   "metadata": {},
   "outputs": [
    {
     "data": {
      "text/plain": [
       "(np.float64(-70.522), np.float64(56.919851686384426))"
      ]
     },
     "execution_count": 162,
     "metadata": {},
     "output_type": "execute_result"
    }
   ],
   "source": [
    "np.mean(df['nperps']), np.std(df['nperps'])"
   ]
  },
  {
   "cell_type": "code",
   "execution_count": 163,
   "id": "7d28203f",
   "metadata": {},
   "outputs": [
    {
     "name": "stdout",
     "output_type": "stream",
     "text": [
      "             nkill       nperps\n",
      "count  1000.000000  1000.000000\n",
      "mean      2.164000   -70.522000\n",
      "std       5.998257    56.948333\n",
      "min       0.000000   -99.000000\n",
      "25%       0.000000   -99.000000\n",
      "50%       1.000000   -99.000000\n",
      "75%       2.000000   -99.000000\n",
      "max      83.000000   600.000000\n"
     ]
    }
   ],
   "source": [
    "print(df.describe())"
   ]
  },
  {
   "cell_type": "code",
   "execution_count": 164,
   "id": "8cf4d5b8",
   "metadata": {},
   "outputs": [],
   "source": [
    "categorical_cols = ['attacktype1_txt', 'weaptype1_txt', 'targtype1_txt', 'country_txt']\n",
    "df_encoded = pd.get_dummies(df, columns=categorical_cols, drop_first=True)\n",
    "\n",
    "# Standardisation of variables\n",
    "scaler = StandardScaler()\n",
    "X_scaled = scaler.fit_transform(df_encoded.drop(['nkill'], axis=1))"
   ]
  },
  {
   "cell_type": "code",
   "execution_count": 165,
   "id": "dcb50d40",
   "metadata": {},
   "outputs": [],
   "source": [
    "stan_data = {\n",
    "    'N': df_encoded.shape[0],\n",
    "    'K': X_scaled.shape[1],\n",
    "    'X': X_scaled,\n",
    "    'nkill': df_encoded['nkill'].astype(int).values\n",
    "}"
   ]
  },
  {
   "metadata": {},
   "cell_type": "markdown",
   "source": "## Building & fitting first model",
   "id": "fd9926b7ea6ba632"
  },
  {
   "cell_type": "code",
   "execution_count": 166,
   "id": "93f5eaad",
   "metadata": {},
   "outputs": [
    {
     "name": "stderr",
     "output_type": "stream",
     "text": [
      "20:36:39 - cmdstanpy - INFO - CmdStan start processing\n"
     ]
    },
    {
     "data": {
      "application/vnd.jupyter.widget-view+json": {
       "model_id": "5d5a425473e84ba39b53799b055d8beb",
       "version_major": 2,
       "version_minor": 0
      },
      "text/plain": [
       "chain 1 |          | 00:00 Status"
      ]
     },
     "metadata": {},
     "output_type": "display_data"
    },
    {
     "data": {
      "application/vnd.jupyter.widget-view+json": {
       "model_id": "cd175b60791f4539b6656008e6a32b94",
       "version_major": 2,
       "version_minor": 0
      },
      "text/plain": [
       "chain 2 |          | 00:00 Status"
      ]
     },
     "metadata": {},
     "output_type": "display_data"
    },
    {
     "data": {
      "application/vnd.jupyter.widget-view+json": {
       "model_id": "880460bb76ed431bbb6534e8607fa05b",
       "version_major": 2,
       "version_minor": 0
      },
      "text/plain": [
       "chain 3 |          | 00:00 Status"
      ]
     },
     "metadata": {},
     "output_type": "display_data"
    },
    {
     "data": {
      "application/vnd.jupyter.widget-view+json": {
       "model_id": "ee1226c6f97045bda08d8465ffbb8cf3",
       "version_major": 2,
       "version_minor": 0
      },
      "text/plain": [
       "chain 4 |          | 00:00 Status"
      ]
     },
     "metadata": {},
     "output_type": "display_data"
    },
    {
     "name": "stdout",
     "output_type": "stream",
     "text": [
      "                                                                                                                                                                                                                                                                                                                                "
     ]
    },
    {
     "name": "stderr",
     "output_type": "stream",
     "text": [
      "20:36:51 - cmdstanpy - INFO - CmdStan done processing.\n"
     ]
    },
    {
     "name": "stdout",
     "output_type": "stream",
     "text": [
      "\n",
      "                        Mean      MCSE    StdDev       MAD          5%  \\\n",
      "lp__              679.309000  0.211173  8.041730  8.051260  665.708000   \n",
      "alpha              -0.443463  0.002037  0.082164  0.082561   -0.580021   \n",
      "beta[1]             0.224025  0.000211  0.013235  0.013119    0.201512   \n",
      "beta[2]            -0.194469  0.000699  0.040175  0.039894   -0.259256   \n",
      "beta[3]            -0.041446  0.001166  0.071008  0.071420   -0.157034   \n",
      "...                      ...       ...       ...       ...         ...   \n",
      "nkill_pred[996]     1.519250  0.021720  1.269660  1.482600    0.000000   \n",
      "nkill_pred[997]     2.593500  0.026651  1.611800  1.482600    0.000000   \n",
      "nkill_pred[998]     0.194750  0.007010  0.452077  0.000000    0.000000   \n",
      "nkill_pred[999]     0.121500  0.005375  0.347517  0.000000    0.000000   \n",
      "nkill_pred[1000]    6.087750  0.039727  2.482260  2.965200    2.000000   \n",
      "\n",
      "                         50%         95%  ESS_bulk  ESS_tail     R_hat  \n",
      "lp__              679.651000  691.748000   1459.33   2180.37  1.000780  \n",
      "alpha              -0.442087   -0.312236   1630.58   2321.59  1.000320  \n",
      "beta[1]             0.224164    0.245252   4015.72   3223.86  1.000720  \n",
      "beta[2]            -0.194207   -0.129034   3340.38   2983.54  1.001770  \n",
      "beta[3]            -0.042779    0.078628   3759.32   2824.62  1.000610  \n",
      "...                      ...         ...       ...       ...       ...  \n",
      "nkill_pred[996]     1.000000    4.000000   3567.60   3791.51  0.999313  \n",
      "nkill_pred[997]     2.000000    5.000000   3613.69   3897.68  0.999876  \n",
      "nkill_pred[998]     0.000000    1.000000   4171.88   4182.23  0.999725  \n",
      "nkill_pred[999]     0.000000    1.000000   4176.99   4148.46  1.000090  \n",
      "nkill_pred[1000]    6.000000   10.000000   3924.70   3809.89  0.999826  \n",
      "\n",
      "[1121 rows x 10 columns]\n"
     ]
    }
   ],
   "source": [
    "model_ppc = CmdStanModel(stan_file='code_1.stan')\n",
    "\n",
    "fit = model_ppc.sample(\n",
    "    data=stan_data,\n",
    "    chains=4,\n",
    "    iter_sampling=1000,\n",
    "    iter_warmup=500,\n",
    "    seed=SEED\n",
    ")\n",
    "\n",
    "print(fit.summary())"
   ]
  },
  {
   "metadata": {},
   "cell_type": "code",
   "outputs": [],
   "execution_count": null,
   "source": "display(create_poisson_dag())",
   "id": "160b379328af6262"
  },
  {
   "metadata": {},
   "cell_type": "markdown",
   "source": "## Presenting results",
   "id": "9d4ee61815226a22"
  },
  {
   "cell_type": "code",
   "execution_count": 167,
   "id": "d1f52df4",
   "metadata": {},
   "outputs": [],
   "source": [
    "y_pred_poisson = fit.stan_variable('nkill_pred')\n",
    "y_true_poisson = df_encoded['nkill'].values\n",
    "y_pred_mean_poisson = np.mean(y_pred_poisson, axis=0)"
   ]
  },
  {
   "cell_type": "code",
   "execution_count": 168,
   "id": "d5272153",
   "metadata": {},
   "outputs": [
    {
     "data": {
      "image/png": "[encoded data removed]",
      "text/plain": [
       "<Figure size 640x480 with 1 Axes>"
      ]
     },
     "metadata": {},
     "output_type": "display_data"
    }
   ],
   "source": [
    "plt.hist(y_true_poisson, bins=50, alpha=0.7, label='Predicted (nkill_pred)')\n",
    "plt.hist(y_pred_mean_poisson, bins=50, alpha=0.7, label='Real (nkill)')\n",
    "plt.xlabel('Number of victims')\n",
    "plt.ylabel('COUNT')\n",
    "plt.legend()\n",
    "plt.title('Comparison of distributions: actual data vs. prediction (PPC)')\n",
    "plt.show()\n"
   ]
  },
  {
   "cell_type": "code",
   "execution_count": 169,
   "id": "e466f2c8",
   "metadata": {},
   "outputs": [
    {
     "data": {
      "image/png": "[encoded data removed]",
      "text/plain": [
       "<Figure size 1000x600 with 1 Axes>"
      ]
     },
     "metadata": {},
     "output_type": "display_data"
    }
   ],
   "source": [
    "import seaborn as sns\n",
    "import matplotlib.pyplot as plt\n",
    "\n",
    "plt.figure(figsize=(10,6))\n",
    "sns.kdeplot(y_true_poisson, label='Real (nkill)', fill=True, alpha=0.5)\n",
    "sns.kdeplot(y_pred_mean_poisson, label='Predicted (nkill_pred)', fill=True, alpha=0.5)\n",
    "plt.xlabel('Number of victims')\n",
    "plt.ylabel('Density')\n",
    "plt.legend()\n",
    "plt.title('Comparison of distributions: actual data vs. prediction (PPC)')\n",
    "plt.show()\n"
   ]
  },
  {
   "cell_type": "code",
   "execution_count": 170,
   "id": "4414c01b",
   "metadata": {},
   "outputs": [
    {
     "name": "stdout",
     "output_type": "stream",
     "text": [
      "Liczba ofiar = 0: Rzeczywiste = 488, Symulowane = 259\n",
      "Liczba ofiar = 1: Rzeczywiste = 229, Symulowane = 299\n",
      "Liczba ofiar = 2: Rzeczywiste = 89, Symulowane = 114\n",
      "Liczba ofiar = 3: Rzeczywiste = 50, Symulowane = 115\n",
      "Liczba ofiar = 4: Rzeczywiste = 35, Symulowane = 108\n",
      "Liczba ofiar = 5: Rzeczywiste = 26, Symulowane = 29\n",
      "Liczba ofiar = 6: Rzeczywiste = 15, Symulowane = 20\n",
      "Liczba ofiar = 7: Rzeczywiste = 7, Symulowane = 14\n",
      "Liczba ofiar = 8: Rzeczywiste = 8, Symulowane = 11\n",
      "Liczba ofiar = 9: Rzeczywiste = 5, Symulowane = 7\n",
      "Liczba ofiar = 10: Rzeczywiste = 4, Symulowane = 11\n",
      "Liczba ofiar = 11: Rzeczywiste = 4, Symulowane = 2\n",
      "Liczba ofiar = 12: Rzeczywiste = 5, Symulowane = 1\n",
      "Liczba ofiar = 13: Rzeczywiste = 2, Symulowane = 3\n",
      "Liczba ofiar = 14: Rzeczywiste = 3, Symulowane = 0\n",
      "Liczba ofiar = 15: Rzeczywiste = 5, Symulowane = 3\n",
      "Liczba ofiar = 16: Rzeczywiste = 2, Symulowane = 0\n",
      "Liczba ofiar = 17: Rzeczywiste = 1, Symulowane = 0\n",
      "Liczba ofiar = 18: Rzeczywiste = 2, Symulowane = 1\n",
      "Liczba ofiar = 20: Rzeczywiste = 3, Symulowane = 0\n",
      "Liczba ofiar = 21: Rzeczywiste = 1, Symulowane = 0\n",
      "Liczba ofiar = 22: Rzeczywiste = 1, Symulowane = 1\n",
      "Liczba ofiar = 24: Rzeczywiste = 2, Symulowane = 0\n",
      "Liczba ofiar = 25: Rzeczywiste = 1, Symulowane = 0\n",
      "Liczba ofiar = 28: Rzeczywiste = 1, Symulowane = 0\n",
      "Liczba ofiar = 32: Rzeczywiste = 1, Symulowane = 0\n",
      "Liczba ofiar = 33: Rzeczywiste = 2, Symulowane = 0\n",
      "Liczba ofiar = 35: Rzeczywiste = 1, Symulowane = 1\n",
      "Liczba ofiar = 36: Rzeczywiste = 1, Symulowane = 0\n",
      "Liczba ofiar = 41: Rzeczywiste = 1, Symulowane = 1\n",
      "Liczba ofiar = 43: Rzeczywiste = 1, Symulowane = 0\n",
      "Liczba ofiar = 50: Rzeczywiste = 1, Symulowane = 0\n",
      "Liczba ofiar = 57: Rzeczywiste = 1, Symulowane = 0\n",
      "Liczba ofiar = 70: Rzeczywiste = 1, Symulowane = 0\n",
      "Liczba ofiar = 83: Rzeczywiste = 1, Symulowane = 0\n"
     ]
    }
   ],
   "source": [
    "for n in range(0, 500000):\n",
    "    true_count = np.sum(y_true_poisson == n)\n",
    "    pred_count = np.sum(np.round(y_pred_mean_poisson) == n)\n",
    "    if true_count != 0 or pred_count != 0:\n",
    "        print(f\"Number of victims = {n}: Real = {true_count}, Predicted = {pred_count}\")\n"
   ]
  },
  {
   "metadata": {},
   "cell_type": "markdown",
   "source": "## Building & fitting second model",
   "id": "467e289870f3c3e2"
  },
  {
   "cell_type": "code",
   "execution_count": 171,
   "id": "b25fdc9b",
   "metadata": {},
   "outputs": [
    {
     "name": "stderr",
     "output_type": "stream",
     "text": [
      "20:37:04 - cmdstanpy - INFO - CmdStan start processing\n"
     ]
    },
    {
     "data": {
      "application/vnd.jupyter.widget-view+json": {
       "model_id": "ebc2be84c46d408d815c16365161aaba",
       "version_major": 2,
       "version_minor": 0
      },
      "text/plain": [
       "chain 1 |          | 00:00 Status"
      ]
     },
     "metadata": {},
     "output_type": "display_data"
    },
    {
     "data": {
      "application/vnd.jupyter.widget-view+json": {
       "model_id": "bb76ec459d7540d38f34c0890f7ed85a",
       "version_major": 2,
       "version_minor": 0
      },
      "text/plain": [
       "chain 2 |          | 00:00 Status"
      ]
     },
     "metadata": {},
     "output_type": "display_data"
    },
    {
     "data": {
      "application/vnd.jupyter.widget-view+json": {
       "model_id": "22baa4f609714c898b2b7ff275dbe248",
       "version_major": 2,
       "version_minor": 0
      },
      "text/plain": [
       "chain 3 |          | 00:00 Status"
      ]
     },
     "metadata": {},
     "output_type": "display_data"
    },
    {
     "data": {
      "application/vnd.jupyter.widget-view+json": {
       "model_id": "3fc234117a4b4ab29472b14d637016eb",
       "version_major": 2,
       "version_minor": 0
      },
      "text/plain": [
       "chain 4 |          | 00:00 Status"
      ]
     },
     "metadata": {},
     "output_type": "display_data"
    },
    {
     "name": "stdout",
     "output_type": "stream",
     "text": [
      "                                                                                                                                                                                                                                                                                                                                "
     ]
    },
    {
     "name": "stderr",
     "output_type": "stream",
     "text": [
      "20:37:17 - cmdstanpy - INFO - CmdStan done processing.\n",
      "20:37:17 - cmdstanpy - WARNING - Non-fatal error during sampling:\n",
      "Exception: neg_binomial_2_log_lpmf: Precision parameter is 0, but must be positive finite! (in 'code_2.stan', line 19, column 2 to column 52)\n",
      "\tException: neg_binomial_2_log_lpmf: Precision parameter is 0, but must be positive finite! (in 'code_2.stan', line 19, column 2 to column 52)\n",
      "\tException: neg_binomial_2_log_lpmf: Precision parameter is 0, but must be positive finite! (in 'code_2.stan', line 19, column 2 to column 52)\n",
      "\tException: neg_binomial_2_log_lpmf: Precision parameter is 0, but must be positive finite! (in 'code_2.stan', line 19, column 2 to column 52)\n",
      "\tException: neg_binomial_2_log_lpmf: Precision parameter is 0, but must be positive finite! (in 'code_2.stan', line 19, column 2 to column 52)\n",
      "Exception: neg_binomial_2_log_lpmf: Precision parameter is 0, but must be positive finite! (in 'code_2.stan', line 19, column 2 to column 52)\n",
      "\tException: neg_binomial_2_log_lpmf: Precision parameter is 0, but must be positive finite! (in 'code_2.stan', line 19, column 2 to column 52)\n",
      "\tException: neg_binomial_2_log_lpmf: Precision parameter is inf, but must be positive finite! (in 'code_2.stan', line 19, column 2 to column 52)\n",
      "\tException: neg_binomial_2_log_lpmf: Precision parameter is inf, but must be positive finite! (in 'code_2.stan', line 19, column 2 to column 52)\n",
      "Exception: neg_binomial_2_log_lpmf: Precision parameter is 0, but must be positive finite! (in 'code_2.stan', line 19, column 2 to column 52)\n",
      "\tException: neg_binomial_2_log_lpmf: Precision parameter is 0, but must be positive finite! (in 'code_2.stan', line 19, column 2 to column 52)\n",
      "\tException: neg_binomial_2_log_lpmf: Precision parameter is inf, but must be positive finite! (in 'code_2.stan', line 19, column 2 to column 52)\n",
      "\tException: neg_binomial_2_log_lpmf: Precision parameter is inf, but must be positive finite! (in 'code_2.stan', line 19, column 2 to column 52)\n",
      "Exception: neg_binomial_2_log_lpmf: Precision parameter is inf, but must be positive finite! (in 'code_2.stan', line 19, column 2 to column 52)\n",
      "Consider re-running with show_console=True if the above output is unclear!\n"
     ]
    },
    {
     "name": "stdout",
     "output_type": "stream",
     "text": [
      "\n",
      "                         Mean      MCSE    StdDev       MAD           5%  \\\n",
      "lp__             -1629.750000  0.225697  8.588900  8.621320 -1644.300000   \n",
      "alpha               -0.370535  0.002091  0.092863  0.091999    -0.527695   \n",
      "beta[1]              0.410156  0.001099  0.069165  0.067812     0.297837   \n",
      "beta[2]             -0.127714  0.001205  0.075884  0.077152    -0.250743   \n",
      "beta[3]              0.167807  0.002488  0.164897  0.162077    -0.109871   \n",
      "...                       ...       ...       ...       ...          ...   \n",
      "nkill_pred[996]      3.599750  0.088796  5.571110  2.965200     0.000000   \n",
      "nkill_pred[997]      2.837750  0.066002  4.097640  1.482600     0.000000   \n",
      "nkill_pred[998]      0.223250       NaN  0.659938  0.000000     0.000000   \n",
      "nkill_pred[999]      0.115500  0.006330  0.401497  0.000000     0.000000   \n",
      "nkill_pred[1000]     6.519500  0.143619  9.078750  4.447800     0.000000   \n",
      "\n",
      "                          50%          95%  ESS_bulk  ESS_tail     R_hat  \n",
      "lp__             -1629.250000 -1616.430000   1488.88   2081.15  0.999974  \n",
      "alpha               -0.368432    -0.222318   1992.22   2483.46  1.001850  \n",
      "beta[1]              0.410316     0.527195   4025.75   2804.14  1.000420  \n",
      "beta[2]             -0.127175    -0.002021   3979.04   2851.13  1.001670  \n",
      "beta[3]              0.169067     0.437156   4441.37   3102.09  1.000800  \n",
      "...                       ...          ...       ...       ...       ...  \n",
      "nkill_pred[996]      2.000000    14.000000   3761.25   3869.27  0.999730  \n",
      "nkill_pred[997]      1.000000    11.000000   3826.12   3915.90  1.001190  \n",
      "nkill_pred[998]      0.000000     1.000000   4197.02   4246.40  0.999681  \n",
      "nkill_pred[999]      0.000000     1.000000   4094.88   4052.13  0.999647  \n",
      "nkill_pred[1000]     3.000000    25.000000   4037.33   3991.27  1.000400  \n",
      "\n",
      "[1122 rows x 10 columns]\n"
     ]
    }
   ],
   "source": [
    "model_ppc = CmdStanModel(stan_file='code_2.stan')\n",
    "\n",
    "fit = model_ppc.sample(\n",
    "    data=stan_data,\n",
    "    chains=4,\n",
    "    iter_sampling=1000,\n",
    "    iter_warmup=500,\n",
    "    seed=SEED\n",
    ")\n",
    "\n",
    "print(fit.summary())"
   ]
  },
  {
   "metadata": {},
   "cell_type": "code",
   "outputs": [],
   "execution_count": null,
   "source": "display(create_negative_binomial_dag())",
   "id": "e0d06aff2099eea8"
  },
  {
   "metadata": {},
   "cell_type": "markdown",
   "source": "## Presenting results for second model",
   "id": "f54a7c0a76bf2c23"
  },
  {
   "cell_type": "code",
   "execution_count": 172,
   "id": "7a3ee300",
   "metadata": {},
   "outputs": [],
   "source": [
    "y_pred_binomial = fit.stan_variable('nkill_pred')\n",
    "y_true_binomial = df_encoded['nkill'].values\n",
    "y_pred_mean_binomial = np.mean(y_pred_binomial, axis=0)"
   ]
  },
  {
   "cell_type": "code",
   "execution_count": 182,
   "id": "3d7a2e6b",
   "metadata": {},
   "outputs": [
    {
     "data": {
      "image/png": "[encoded data removed]",
      "text/plain": [
       "<Figure size 640x480 with 1 Axes>"
      ]
     },
     "metadata": {},
     "output_type": "display_data"
    }
   ],
   "source": [
    "plt.hist(y_true_binomial, bins=50, alpha=0.7, label='Predicted (nkill_pred)')\n",
    "plt.hist(y_pred_mean_binomial, bins=50, alpha=0.7, label='Real (nkill)')\n",
    "plt.xlabel('Number of victims')\n",
    "plt.ylabel('COUNT')\n",
    "plt.legend()\n",
    "plt.title('Comparison of distributions: actual data vs. prediction (PPC)')\n",
    "plt.show()"
   ]
  },
  {
   "cell_type": "code",
   "execution_count": 175,
   "id": "515160f7",
   "metadata": {},
   "outputs": [
    {
     "name": "stdout",
     "output_type": "stream",
     "text": [
      "Liczba ofiar = 0: Rzeczywiste = 488, Symulowane = 221\n",
      "Liczba ofiar = 1: Rzeczywiste = 229, Symulowane = 274\n",
      "Liczba ofiar = 2: Rzeczywiste = 89, Symulowane = 152\n",
      "Liczba ofiar = 3: Rzeczywiste = 50, Symulowane = 162\n",
      "Liczba ofiar = 4: Rzeczywiste = 35, Symulowane = 30\n",
      "Liczba ofiar = 5: Rzeczywiste = 26, Symulowane = 34\n",
      "Liczba ofiar = 6: Rzeczywiste = 15, Symulowane = 20\n",
      "Liczba ofiar = 7: Rzeczywiste = 7, Symulowane = 20\n",
      "Liczba ofiar = 8: Rzeczywiste = 8, Symulowane = 14\n",
      "Liczba ofiar = 9: Rzeczywiste = 5, Symulowane = 15\n",
      "Liczba ofiar = 10: Rzeczywiste = 4, Symulowane = 5\n",
      "Liczba ofiar = 11: Rzeczywiste = 4, Symulowane = 10\n",
      "Liczba ofiar = 12: Rzeczywiste = 5, Symulowane = 1\n",
      "Liczba ofiar = 13: Rzeczywiste = 2, Symulowane = 3\n",
      "Liczba ofiar = 14: Rzeczywiste = 3, Symulowane = 1\n",
      "Liczba ofiar = 15: Rzeczywiste = 5, Symulowane = 1\n",
      "Liczba ofiar = 16: Rzeczywiste = 2, Symulowane = 2\n",
      "Liczba ofiar = 17: Rzeczywiste = 1, Symulowane = 1\n",
      "Liczba ofiar = 18: Rzeczywiste = 2, Symulowane = 2\n",
      "Liczba ofiar = 19: Rzeczywiste = 0, Symulowane = 2\n",
      "Liczba ofiar = 20: Rzeczywiste = 3, Symulowane = 1\n",
      "Liczba ofiar = 21: Rzeczywiste = 1, Symulowane = 2\n",
      "Liczba ofiar = 22: Rzeczywiste = 1, Symulowane = 0\n",
      "Liczba ofiar = 23: Rzeczywiste = 0, Symulowane = 2\n",
      "Liczba ofiar = 24: Rzeczywiste = 2, Symulowane = 1\n",
      "Liczba ofiar = 25: Rzeczywiste = 1, Symulowane = 0\n",
      "Liczba ofiar = 28: Rzeczywiste = 1, Symulowane = 0\n",
      "Liczba ofiar = 32: Rzeczywiste = 1, Symulowane = 1\n",
      "Liczba ofiar = 33: Rzeczywiste = 2, Symulowane = 0\n",
      "Liczba ofiar = 35: Rzeczywiste = 1, Symulowane = 1\n",
      "Liczba ofiar = 36: Rzeczywiste = 1, Symulowane = 0\n",
      "Liczba ofiar = 37: Rzeczywiste = 0, Symulowane = 1\n",
      "Liczba ofiar = 41: Rzeczywiste = 1, Symulowane = 0\n",
      "Liczba ofiar = 43: Rzeczywiste = 1, Symulowane = 0\n",
      "Liczba ofiar = 50: Rzeczywiste = 1, Symulowane = 0\n",
      "Liczba ofiar = 51: Rzeczywiste = 0, Symulowane = 1\n",
      "Liczba ofiar = 57: Rzeczywiste = 1, Symulowane = 0\n",
      "Liczba ofiar = 64: Rzeczywiste = 0, Symulowane = 1\n",
      "Liczba ofiar = 70: Rzeczywiste = 1, Symulowane = 0\n",
      "Liczba ofiar = 74: Rzeczywiste = 0, Symulowane = 1\n",
      "Liczba ofiar = 83: Rzeczywiste = 1, Symulowane = 0\n",
      "Liczba ofiar = 162: Rzeczywiste = 0, Symulowane = 1\n",
      "Liczba ofiar = 170: Rzeczywiste = 0, Symulowane = 1\n",
      "Liczba ofiar = 278: Rzeczywiste = 0, Symulowane = 1\n",
      "Liczba ofiar = 352: Rzeczywiste = 0, Symulowane = 1\n",
      "Liczba ofiar = 380: Rzeczywiste = 0, Symulowane = 1\n",
      "Liczba ofiar = 489: Rzeczywiste = 0, Symulowane = 1\n"
     ]
    }
   ],
   "source": [
    "for n in range(0, 500):\n",
    "    true_count = np.sum(y_true_binomial == n)\n",
    "    pred_count = np.sum(np.round(y_pred_mean_binomial) == n)\n",
    "    if true_count != 0 or pred_count != 0:\n",
    "        print(f\"Number of victims = {n}: Real = {true_count}, Predicted = {pred_count}\")\n"
   ]
  },
  {
   "metadata": {},
   "cell_type": "markdown",
   "source": "## Comparing first and second model with actual data",
   "id": "f97a204b9a542cd4"
  },
  {
   "cell_type": "code",
   "execution_count": 176,
   "id": "3d9c8880",
   "metadata": {},
   "outputs": [
    {
     "data": {
      "image/png": "[encoded data removed]",
      "text/plain": [
       "<Figure size 1200x600 with 1 Axes>"
      ]
     },
     "metadata": {},
     "output_type": "display_data"
    }
   ],
   "source": [
    "import numpy as np\n",
    "import matplotlib.pyplot as plt\n",
    "\n",
    "n_values = np.arange(0, 20)\n",
    "\n",
    "\n",
    "true_counts = []\n",
    "binomial_counts = []\n",
    "poisson_counts = []\n",
    "\n",
    "for n in n_values:\n",
    "    true_count = np.sum(y_true_binomial == n)\n",
    "    binomial_count = np.sum(np.round(y_pred_mean_binomial) == n)\n",
    "    poisson_count = np.sum(np.round(y_pred_mean_poisson) == n)\n",
    "    \n",
    "    true_counts.append(true_count)\n",
    "    binomial_counts.append(binomial_count)\n",
    "    poisson_counts.append(poisson_count)\n",
    "\n",
    "\n",
    "bar_width = 0.3\n",
    "index = np.arange(len(n_values))\n",
    "\n",
    "plt.figure(figsize=(12,6))\n",
    "plt.bar(index - bar_width, true_counts, bar_width, label='Real')\n",
    "plt.bar(index, binomial_counts, bar_width, label='Binomial (PPC)')\n",
    "plt.bar(index + bar_width, poisson_counts, bar_width, label='Poisson (PPC)')\n",
    "\n",
    "plt.xlabel('Number of victims (n)')\n",
    "plt.ylabel('Number of cases')\n",
    "plt.xticks(index, n_values)\n",
    "plt.legend()\n",
    "plt.title('Comparison of the number of cases across models')\n",
    "plt.show()\n"
   ]
  },
  {
   "cell_type": "code",
   "id": "1da717c6",
   "metadata": {
    "jupyter": {
     "is_executing": true
    }
   },
   "source": [
    "import pandas as pd\n",
    "import seaborn as sns\n",
    "\n",
    "df_heatmap = pd.DataFrame({\n",
    "    'n': n_values,\n",
    "    'Real': true_counts,\n",
    "    'Binomial (PPC)': binomial_counts,\n",
    "    'Poisson (PPC)': poisson_counts\n",
    "}).set_index('n')\n",
    "\n",
    "plt.figure(figsize=(10,6))\n",
    "sns.heatmap(df_heatmap.T, annot=True, fmt='d', cmap='Blues')\n",
    "plt.title('Comparison of the number of cases across models')\n",
    "plt.xlabel('Number of victims (n)')\n",
    "plt.ylabel('Source of data')\n",
    "plt.show()"
   ],
   "outputs": [],
   "execution_count": null
  }
 ],
 "metadata": {
  "kernelspec": {
   "display_name": "Python 3 (ipykernel)",
   "language": "python",
   "name": "python3"
  },
  "language_info": {
   "codemirror_mode": {
    "name": "ipython",
    "version": 3
   },
   "file_extension": ".py",
   "mimetype": "text/x-python",
   "name": "python",
   "nbconvert_exporter": "python",
   "pygments_lexer": "ipython3",
   "version": "3.11.11"
  }
 },
 "nbformat": 4,
 "nbformat_minor": 5
}
