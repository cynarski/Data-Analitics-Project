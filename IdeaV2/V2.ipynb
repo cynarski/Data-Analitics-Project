{
 "cells": [
  {
   "metadata": {},
   "cell_type": "code",
   "outputs": [],
   "execution_count": null,
   "source": [
    "from cmdstanpy import CmdStanModel\n",
    "import pandas as pd\n",
    "import arviz as az\n",
    "import numpy as np\n",
    "import matplotlib.pyplot as plt\n",
    "import scipy.stats as stats\n",
    "import seaborn as sns\n",
    "from sklearn.preprocessing import StandardScaler\n",
    "from dags import plot_poisson_dag, plot_negative_binomial_dag\n",
    "from functions import *\n",
    "from sklearn.preprocessing import LabelEncoder\n",
    "\n",
    "SEED = 18062025"
   ],
   "id": "9ba1f5db69285324"
  },
  {
   "metadata": {},
   "cell_type": "code",
   "outputs": [],
   "execution_count": null,
   "source": [
    "df = pd.read_csv(\"../globalterrorismdb_0718dist.csv\", encoding='latin-1')\n",
    "\n",
    "categorical_columns = ['weaptype1_txt', 'targtype1_txt', 'country_txt']\n",
    "predictors = categorical_columns + ['nperps']\n",
    "\n",
    "selected_columns = ['nkill'] + predictors\n",
    "df = df[selected_columns].dropna()\n",
    "print(len(df), \"rows in the dataset before filtering\")\n",
    "\n",
    "df = df[df['nperps'] > 0 ]\n",
    "df = df[df['nperps'] < 1000 ]\n",
    "print(len(df), \"rows in the dataset after filtering nperps > 0\")\n",
    "\n",
    "df = df.sample(n=2000, random_state=SEED)\n",
    "print(len(df), \"rows in the dataset after filtering\")\n",
    "df.head()\n",
    "\n",
    "\n",
    "for column in categorical_columns:\n",
    "    le = LabelEncoder()\n",
    "    df[column.replace(\"txt\", \"encoded\")] = le.fit_transform(df[column]) + 1\n",
    "\n",
    "selected_columns = [\"weaptype1_encoded\", \"targtype1_encoded\", \"country_encoded\", \"nperps\"]\n",
    "df_data = df[selected_columns]\n",
    "\n",
    "weaptype1 = df['weaptype1_encoded'].values\n",
    "targtype1 = df['targtype1_encoded'].values\n",
    "country = df['country_encoded'].values\n",
    "X_cont = df['nperps'].values\n",
    "nkill = df['nkill'].values\n",
    "\n",
    "stan_data = {\n",
    "        'N': len(df),\n",
    "        'K_cont': 1, # 1 since we got only 1 column\n",
    "        'K_weaptype': int(weaptype1.max()),  # number of weapon types\n",
    "        'K_targtype': int(targtype1.max()),  # number of target types\n",
    "        'K_country': int(country.max()),     # number of countries\n",
    "        'X_cont': X_cont.reshape(-1, 1),\n",
    "        'weaptype': weaptype1.tolist(),\n",
    "        'targtype': targtype1.tolist(),\n",
    "        'country': country.tolist(),\n",
    "        'nkill': np.array(nkill, dtype=int).tolist()\n",
    "    }\n",
    "\n",
    "\n",
    "model = CmdStanModel(stan_file='new_code.stan')\n",
    "fit = model.sample(\n",
    "    data=stan_data,\n",
    "    seed=SEED,\n",
    "    chains=4,\n",
    "    iter_sampling=1000,\n",
    "    iter_warmup=1000\n",
    ")"
   ],
   "id": "3db7a8c49a45b1f2"
  },
  {
   "cell_type": "code",
   "execution_count": null,
   "id": "initial_id",
   "metadata": {
    "collapsed": true
   },
   "outputs": [],
   "source": [
    "df_1_prod = fit.draws_pd()\n",
    "hist_compare(df['nkill'], df_1_prod.iloc[0][8:])"
   ]
  }
 ],
 "metadata": {
  "kernelspec": {
   "display_name": "Python 3",
   "language": "python",
   "name": "python3"
  },
  "language_info": {
   "codemirror_mode": {
    "name": "ipython",
    "version": 2
   },
   "file_extension": ".py",
   "mimetype": "text/x-python",
   "name": "python",
   "nbconvert_exporter": "python",
   "pygments_lexer": "ipython2",
   "version": "2.7.6"
  }
 },
 "nbformat": 4,
 "nbformat_minor": 5
}
